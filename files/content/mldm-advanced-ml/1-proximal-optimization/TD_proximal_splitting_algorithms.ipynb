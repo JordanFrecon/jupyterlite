{
 "cells": [
  {
   "attachments": {
    "UDL_COBRANDING_UJM-CNJM_124x300.png": {
     "image/png": "[encoded data removed]"
    }
   },
   "cell_type": "markdown",
   "metadata": {},
   "source": [
    "![UDL_COBRANDING_UJM-CNJM_124x300.png](attachment:UDL_COBRANDING_UJM-CNJM_124x300.png)"
   ]
  },
  {
   "cell_type": "markdown",
   "metadata": {},
   "source": [
    "<center><span style=\"font-size:35px\"><b>Advanced Machine Learning</b></span><br><br><span style=\"font-size:25px\">Proximal Splitting Algorithms</span></center>"
   ]
  },
  {
   "cell_type": "code",
   "execution_count": null,
   "metadata": {},
   "outputs": [],
   "source": [
    "import numpy as np\n",
    "import matplotlib.pyplot as plt\n",
    "import torch\n",
    "import pandas as pd"
   ]
  },
  {
   "cell_type": "markdown",
   "metadata": {},
   "source": [
    "# PART 1: Feature Selection with Lasso\n",
    "\n",
    "The **Least Absolute Shrinkage and Selection Operator (LASSO)** is a mathematical operator used in linear regression use to penalize the absolute values of regression coefficients, encouraging some coefficients to be exactly zero. This helps with feature selection and model simplification by reducing the number of relevant variables considered in the model. More formally, given some input matrix $X\\in\\mathbb{R}^{m\\times n}$ and some output vector $y\\in\\mathbb{R}^m$, it finds a linear relationship $y \\approx X \\hat{w}$ where\n",
    "\n",
    "$$\\begin{equation}\\hat{w}=\\underset{w\\in\\mathbb{R}^n}{\\mathrm{argmin}}\\; \\frac{1}{2}\\| y - Xw\\|_2^2 + \\lambda \\| w\\|_1\\quad\\text{with}\\quad\\lambda>0\\end{equation}$$\n",
    "\n",
    "The regularization parameter $\\lambda>0$ has to be selected in order to tune the right balance the data fidelity and regularization terms."
   ]
  },
  {
   "cell_type": "markdown",
   "metadata": {},
   "source": [
    "# 1.1. Dataset and Preprocessing\n",
    "\n",
    "We consider the following *House Prices* dataset [1].\n",
    "\n",
    "> Ask a home buyer to describe their dream house, and they probably won't begin with the height of the basement ceiling or the proximity to an east-west railroad. But this playground competition's dataset proves that much more influences price negotiations than the number of bedrooms or a white-picket fence.\n",
    ">\n",
    "> With 79 explanatory variables describing (almost) every aspect of residential homes in Ames, Iowa, your goal is to predict the final price of each home.\n",
    "\n"
   ]
  },
  {
   "cell_type": "markdown",
   "metadata": {},
   "source": [
    "**Exercice:** Load the data from the file *train.csv* by using pandas. Comment the data."
   ]
  },
  {
   "cell_type": "code",
   "execution_count": null,
   "metadata": {},
   "outputs": [],
   "source": []
  },
  {
   "cell_type": "markdown",
   "metadata": {},
   "source": [
    "**Exercice:** We consider the following preprocessing where 1) the categorial features are converted into numerical features by using the function *LabelEncoder* and 2) the instances with *NaN* values are removed by resorting to the function *dropna* of the Pandas library. Comment."
   ]
  },
  {
   "cell_type": "code",
   "execution_count": null,
   "metadata": {},
   "outputs": [],
   "source": [
    "from sklearn.preprocessing import LabelEncoder\n",
    "numerics = ['int16', 'int32', 'int64', 'float16', 'float32', 'float64']\n",
    "non_numeric_cols = data.select_dtypes(exclude=numerics).columns\n",
    "\n",
    "le = LabelEncoder()\n",
    "for col in non_numeric_cols:\n",
    "    data[col] = le.fit_transform(data[col])\n",
    "data = data.dropna()\n"
   ]
  },
  {
   "cell_type": "markdown",
   "metadata": {},
   "source": [
    "**Exercice:** In the following, we would like to predict the *SalePrice* (denoted $y$) of the house from all the other different features (denoted $X$). Extract $\\{X,y\\}$ from the data. You might resort to *.drop* from the Pandas library. Then, convert them to numpy arrays."
   ]
  },
  {
   "cell_type": "code",
   "execution_count": null,
   "metadata": {},
   "outputs": [],
   "source": []
  },
  {
   "cell_type": "markdown",
   "metadata": {},
   "source": [
    "**Exercice:** Split the dataset into training and validation sets of same sizes. To do so, use the function *train_test_split* from sklearn"
   ]
  },
  {
   "cell_type": "code",
   "execution_count": null,
   "metadata": {},
   "outputs": [],
   "source": []
  },
  {
   "cell_type": "markdown",
   "metadata": {},
   "source": [
    "**Exercice:** Let us consider the following preprocessing. Comment."
   ]
  },
  {
   "cell_type": "code",
   "execution_count": null,
   "metadata": {},
   "outputs": [],
   "source": [
    "from sklearn.preprocessing import StandardScaler\n",
    "\n",
    "scaler = StandardScaler()\n",
    "scaler.fit(X_train)\n",
    "\n",
    "X_train = scaler.fit_transform(X_train)\n",
    "X_valid = scaler.fit_transform(X_valid)\n",
    "\n",
    "\n",
    "scaler_target = StandardScaler()\n",
    "scaler_target.fit(y_train[:,None])\n",
    "\n",
    "y_train = scaler_target.fit_transform(y_train[:,None])[:,0]\n",
    "y_valid = scaler_target.fit_transform(y_valid[:,None])[:,0]"
   ]
  },
  {
   "cell_type": "markdown",
   "metadata": {},
   "source": [
    "## 1.2. Forward-Backward Solver\n",
    "\n",
    "We now turn to the actual solving the LASSO problem. To this purpose, we propose to implement a forward-backward algorithm."
   ]
  },
  {
   "cell_type": "markdown",
   "metadata": {},
   "source": [
    "**Exercice:** Identify the smooth and the nonsmooth parts of the objective. Compute the Lipschitz constant of the gradient of the smooth part."
   ]
  },
  {
   "cell_type": "code",
   "execution_count": null,
   "metadata": {},
   "outputs": [],
   "source": []
  },
  {
   "cell_type": "markdown",
   "metadata": {},
   "source": [
    "**Exercice:** Implement the proximity operator function associated to the nonsmooth part."
   ]
  },
  {
   "cell_type": "code",
   "execution_count": null,
   "metadata": {},
   "outputs": [],
   "source": []
  },
  {
   "cell_type": "markdown",
   "metadata": {},
   "source": [
    "**Exercice:** Implement the forward-backward algorithm for solving lasso."
   ]
  },
  {
   "cell_type": "code",
   "execution_count": null,
   "metadata": {},
   "outputs": [],
   "source": [
    "class LASSO(object):\n",
    "    def __init__(self, num_steps=100, lasso_reg=1):\n",
    "        self.num_steps = int(num_steps)\n",
    "        self.lasso_reg = lasso_reg\n",
    "        \n",
    "    def run(self, y, X):\n",
    "        # TO COMPLETE\n",
    "        "
   ]
  },
  {
   "cell_type": "markdown",
   "metadata": {},
   "source": [
    "**Exercice:** Add the computation and storing of the loss. Then display it as a function of the iterations"
   ]
  },
  {
   "cell_type": "code",
   "execution_count": null,
   "metadata": {
    "scrolled": true
   },
   "outputs": [],
   "source": []
  },
  {
   "cell_type": "markdown",
   "metadata": {},
   "source": [
    "**Exercice:** Select the optimal regularization parameter by cross-validation. Comment."
   ]
  },
  {
   "cell_type": "code",
   "execution_count": null,
   "metadata": {},
   "outputs": [],
   "source": []
  },
  {
   "cell_type": "markdown",
   "metadata": {},
   "source": [
    "**Exercice:** Show the validation error and the number of relevant features as functions of the lasso regularization parameter. Comment."
   ]
  },
  {
   "cell_type": "code",
   "execution_count": null,
   "metadata": {},
   "outputs": [],
   "source": []
  },
  {
   "cell_type": "markdown",
   "metadata": {},
   "source": [
    "# 1.3. (on demand) Fast Forward-Backward Solver"
   ]
  },
  {
   "cell_type": "markdown",
   "metadata": {},
   "source": [
    "**Exercice:** Learn and implement the accelerated variant"
   ]
  },
  {
   "cell_type": "code",
   "execution_count": null,
   "metadata": {},
   "outputs": [],
   "source": []
  },
  {
   "attachments": {
    "image.png": {
     "image/png": "[encoded data removed]"
    }
   },
   "cell_type": "markdown",
   "metadata": {},
   "source": [
    "# PART 2: Piecewise Denoising with Total Variation\n",
    "\n",
    "The goal of piecewise constant denoising is to enhance the quality of noisy data by identifying and preserving distinct regions with constant intensity values while suppressing noise. This technique is crucial for various applications, including image processing and signal analysis, as it helps improve the accuracy and interpretability of the underlying information by reducing unwanted interference from noise.\n",
    "\n",
    "![image.png](attachment:image.png)\n",
    "\n",
    "Similarly to feature selection (as in LASSO), piecewise constant denoising can also be considered from the point of view of variational approaches, where the denoised solution minimizes a criterion composed of a data fidelity term and a regularization term. In this part, we focus on the use of total variation (TV) as a regularization term. Penalizing the total variation by a norm favoring parsimony, e.g. $\\ell_1$, allows the restored solution to preserve a small number of discontinuities. More formally, $\\ell_1$-TV denoising aims at finding an approximation $\\hat{x}$ of $y\\in\\mathbb{R}^n$ that is piecewise constant, i.e., with sparse variations, by solving \n",
    "$$\\hat{x}=\\underset{x\\in\\mathbb{R}^n}{\\mathrm{argmin}}\\; \\frac{1}{2}\\| y - x\\|_2^2 + \\lambda \\| \\mathrm{TV}(x)\\|_1\\quad\\text{where}\\quad \\mathrm{TV}(x)_i = x_{i+1}-x_i\\quad\\text{and}\\quad\\lambda>0$$"
   ]
  },
  {
   "cell_type": "markdown",
   "metadata": {},
   "source": [
    "## 2.1. Data Generation"
   ]
  },
  {
   "cell_type": "markdown",
   "metadata": {},
   "source": [
    "**Exercice:** Given the following ground truth signal $\\bar{x}$, generate a noisy observation $y$ corrupted by gaussian noise with mean $0$ and standard deviation $1.5$."
   ]
  },
  {
   "cell_type": "code",
   "execution_count": null,
   "metadata": {},
   "outputs": [],
   "source": [
    "\"\"\" Ground truth \"\"\"\n",
    "plateau_val = [-1, 2, 3, 0, 5]\n",
    "plateau_len = [20, 70, 30, 50, 40]\n",
    "\n",
    "xbar = np.empty(0)\n",
    "for val, length in zip(plateau_val, plateau_len):\n",
    "    xbar = np.concatenate((xbar, val*np.ones((length))), axis=0)    \n",
    "    \n",
    "\"\"\" Noisy observation \"\"\"\n",
    "# TO COMPLETE"
   ]
  },
  {
   "cell_type": "code",
   "execution_count": null,
   "metadata": {},
   "outputs": [],
   "source": []
  },
  {
   "cell_type": "markdown",
   "metadata": {},
   "source": [
    "## 2.2 Dual Forward-Backward Algorithm"
   ]
  },
  {
   "cell_type": "markdown",
   "metadata": {},
   "source": [
    "**Exercice:** Given the following implementation of the linear operator $L$ modeling the first-order variations, evaluate $\\|\\mathrm{TV}(y)\\|_1$. "
   ]
  },
  {
   "cell_type": "code",
   "execution_count": null,
   "metadata": {},
   "outputs": [],
   "source": [
    "# Linear operator associated to the total variation\n",
    "Lm = - np.eye(len(y))[:-1,:]\n",
    "Lp = np.eye(len(y))\n",
    "Lp = np.hstack((np.zeros((len(y),1)), Lp))[:-1,:-1]\n",
    "L = Lm + Lp\n"
   ]
  },
  {
   "cell_type": "markdown",
   "metadata": {},
   "source": [
    "**Exercice:** Explain why this minimization cannot be solved with forward-backward solver. Write the dual problem."
   ]
  },
  {
   "cell_type": "code",
   "execution_count": null,
   "metadata": {},
   "outputs": [],
   "source": []
  },
  {
   "cell_type": "markdown",
   "metadata": {},
   "source": [
    "**Exercice:** Implement a dual forward-backward solver."
   ]
  },
  {
   "cell_type": "code",
   "execution_count": null,
   "metadata": {},
   "outputs": [],
   "source": [
    "class TV_denoising(object):\n",
    "    def __init__(self, num_steps=100, tv_reg=1):\n",
    "        self.num_steps = int(num_steps)\n",
    "        self.tv_reg = tv_reg\n",
    "        self.lin = None\n",
    "        \n",
    "    def compute_lin_op(self, y):\n",
    "        Lm = - np.eye(len(y))[:-1,:]\n",
    "        Lp = np.eye(len(y))\n",
    "        Lp = np.hstack((np.zeros((len(y),1)), Lp))[:-1,:-1]\n",
    "        self.lin =  Lm + Lp\n",
    "\n",
    "    def run(self, y):\n",
    "        \n",
    "        # TO COMPLETE\n",
    "        "
   ]
  },
  {
   "cell_type": "markdown",
   "metadata": {},
   "source": [
    "# References\n",
    "\n",
    "- [1] Anna Montoya, DataCanary. (2016). House Prices - Advanced Regression Techniques. Kaggle. https://kaggle.com/competitions/house-prices-advanced-regression-techniques"
   ]
  },
  {
   "cell_type": "code",
   "execution_count": null,
   "metadata": {},
   "outputs": [],
   "source": []
  }
 ],
 "metadata": {
  "kernelspec": {
   "display_name": "Python 3 (ipykernel)",
   "language": "python",
   "name": "python3"
  },
  "language_info": {
   "codemirror_mode": {
    "name": "ipython",
    "version": 3
   },
   "file_extension": ".py",
   "mimetype": "text/x-python",
   "name": "python",
   "nbconvert_exporter": "python",
   "pygments_lexer": "ipython3",
   "version": "3.9.12"
  }
 },
 "nbformat": 4,
 "nbformat_minor": 4
}
